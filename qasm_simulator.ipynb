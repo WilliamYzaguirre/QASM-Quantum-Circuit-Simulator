{
 "cells": [
  {
   "cell_type": "code",
   "execution_count": 11,
   "metadata": {},
   "outputs": [],
   "source": [
    "import simulator\n",
    "import matplotlib.pyplot as plt"
   ]
  },
  {
   "cell_type": "code",
   "execution_count": 14,
   "metadata": {},
   "outputs": [
    {
     "name": "stdout",
     "output_type": "stream",
     "text": [
      "The output of miller_11.qasm is: {(0, 0, 0, 0, 0, 0, 0, 0, 0, 0, 0, 0, 0, 0, 0, 0): (1+0j)}\n",
      "And took 1.001596450805664 ms\n",
      "The output of decod24-v2_43.qasm is: {(0, 0, 0, 1, 0, 0, 0, 0, 0, 0, 0, 0, 0, 0, 0, 0): (1.0000000000000002+0j)}\n",
      "And took 0.0 ms\n",
      "The output of one-two-three-v3_101.qasm is: {(1, 1, 0, 0, 0, 0, 0, 0, 0, 0, 0, 0, 0, 0, 0, 0): (1.0000000000000002+0j)}\n",
      "And took 0.0 ms\n",
      "The output of hwb5_53.qasm is: {(0, 0, 0, 0, 0, 0, 0, 0, 0, 0, 0, 0, 0, 0, 0, 0): (1+0j)}\n",
      "And took 8.998870849609375 ms\n",
      "The output of alu-bdd_288.qasm is: {(0, 0, 0, 0, 0, 0, 1, 0, 0, 0, 0, 0, 0, 0, 0, 0): (1+0j)}\n",
      "And took 1.0097026824951172 ms\n",
      "The output of f2_232.qasm is: {(0, 0, 0, 0, 0, 1, 1, 0, 0, 0, 0, 0, 0, 0, 0, 0): (1.0000000000000002+0j)}\n",
      "And took 8.974313735961914 ms\n",
      "The output of con1_216.qasm is: {(1, 0, 0, 1, 0, 1, 1, 1, 0, 0, 0, 0, 0, 0, 0, 0): (1.0000000000000002+0j)}\n",
      "And took 6.998777389526367 ms\n",
      "The output of mini_alu_305.qasm is: {(0, 0, 0, 0, 0, 0, 0, 1, 1, 0, 0, 0, 0, 0, 0, 0): (1.0000000000000002+0j)}\n",
      "And took 1.0004043579101562 ms\n",
      "The output of wim_266.qasm is: {(1, 1, 0, 1, 1, 1, 1, 1, 1, 1, 1, 0, 0, 0, 0, 0): (1.0000000000000002+0j)}\n",
      "And took 6.99925422668457 ms\n",
      "The output of cm152a_212.qasm is: {(0, 1, 1, 1, 0, 0, 0, 0, 0, 0, 0, 0, 0, 0, 0, 0): (1.0000000000000002+0j)}\n",
      "And took 9.000062942504883 ms\n",
      "The output of squar5_261.qasm is: {(0, 0, 0, 0, 0, 0, 0, 0, 1, 1, 0, 1, 1, 0, 0, 0): (1+0j)}\n",
      "And took 14.000654220581055 ms\n",
      "The output of sym6_316.qasm is: {(0, 0, 0, 0, 0, 0, 0, 0, 0, 0, 0, 0, 1, 0, 0, 0): (1+0j)}\n",
      "And took 1.9998550415039062 ms\n",
      "The output of rd84_142.qasm is: {(0, 0, 0, 0, 0, 0, 0, 0, 0, 0, 0, 0, 0, 0, 0, 0): (1+0j)}\n",
      "And took 1.9996166229248047 ms\n",
      "The output of cnt3-5_179.qasm is: {(0, 0, 0, 0, 0, 0, 0, 0, 0, 0, 0, 0, 0, 0, 0, 0): (1+0j)}\n",
      "And took 0.99945068359375 ms\n"
     ]
    }
   ],
   "source": [
    "files = [\"miller_11.qasm\", \"decod24-v2_43.qasm\", \"one-two-three-v3_101.qasm\", \"hwb5_53.qasm\", \"alu-bdd_288.qasm\", \\\n",
    "        \"f2_232.qasm\", \"con1_216.qasm\", \"mini_alu_305.qasm\", \"wim_266.qasm\", \"cm152a_212.qasm\", \"squar5_261.qasm\", \\\n",
    "        \"sym6_316.qasm\", \"rd84_142.qasm\", \"cnt3-5_179.qasm\"]\n",
    "outputs = []\n",
    "times = []\n",
    "for filename in files:\n",
    "    output, duration = simulator.run_circ(simulator.qasm_to_instruction(filename))\n",
    "    outputs.append(output)\n",
    "    times.append(duration)\n",
    "    print(\"The output of {} is: {}\\nAnd took {} ms\".format(filename, output, duration))"
   ]
  },
  {
   "cell_type": "code",
   "execution_count": 15,
   "metadata": {},
   "outputs": [
    {
     "data": {
      "image/png": "[encoded data removed]",
      "text/plain": [
       "<Figure size 432x288 with 1 Axes>"
      ]
     },
     "metadata": {
      "needs_background": "light"
     },
     "output_type": "display_data"
    }
   ],
   "source": [
    "plt.plot(list(range(3, 17)), times, 'o')\n",
    "plt.xlabel('Number of Qubits')\n",
    "plt.ylabel('Time(ms)')\n",
    "plt.grid()\n",
    "plt.title('Execution Times for Different Numbers of Qubits')\n",
    "plt.show()"
   ]
  },
  {
   "cell_type": "code",
   "execution_count": 1,
   "metadata": {},
   "outputs": [],
   "source": [
    "import sys\n",
    "import numpy as np\n",
    "import cirq\n",
    "from cirq.contrib.qasm_import import circuit_from_qasm\n",
    "from pathlib import Path\n",
    "# Import your simulate function here.\n",
    "# cs238 can be a file, a folder with an __init__.py file,\n",
    "from simulator import simulate\n",
    "def cirq_simulate(qasm_string: str) -> list:\n",
    "    \"\"\"Simulate a qasm string\n",
    "    Args:\n",
    "        qasm_string: a string following the qasm format\n",
    "    Returns:\n",
    "        statevector: a list, with a complex number for\n",
    "            each of the 2^num_qubits possible amplitudes\n",
    "            Ordered big endian, see:\n",
    "        \n",
    "quantumai.google/reference/python/cirq/sim/StateVectorTrialResult#state_vector\n",
    "    \"\"\"\n",
    "    circuit = circuit_from_qasm(qasm_string)\n",
    "    result = cirq.Simulator().simulate(circuit)\n",
    "    statevector = list(np.around(result.state_vector(), 3))\n",
    "    return statevector\n",
    "def compare(state_vector, cirq_state_vector):\n",
    "    \"\"\"Our comparison function for your grade\n",
    "    Args:\n",
    "        state_vector: your state vector amplitude list\n",
    "        cirq_state_vector: cirq's state vector amplitude list\n",
    "    Returns:\n",
    "        Some value influencing your grade, subject to change :)\n",
    "    \"\"\"\n",
    "    return np.all(np.isclose(state_vector, cirq_state_vector))"
   ]
  },
  {
   "cell_type": "code",
   "execution_count": null,
   "metadata": {},
   "outputs": [],
   "source": []
  },
  {
   "cell_type": "code",
   "execution_count": 3,
   "metadata": {},
   "outputs": [
    {
     "ename": "AssertionError",
     "evalue": "",
     "output_type": "error",
     "traceback": [
      "\u001b[1;31m---------------------------------------------------------------------------\u001b[0m",
      "\u001b[1;31mAssertionError\u001b[0m                            Traceback (most recent call last)",
      "\u001b[1;32m<ipython-input-3-c0797ce4e0be>\u001b[0m in \u001b[0;36m<module>\u001b[1;34m\u001b[0m\n\u001b[0;32m      1\u001b[0m \u001b[1;31m# get the directory of qasm files and make sure it's a directory\u001b[0m\u001b[1;33m\u001b[0m\u001b[1;33m\u001b[0m\u001b[1;33m\u001b[0m\u001b[0m\n\u001b[0;32m      2\u001b[0m \u001b[0mqasm_dir\u001b[0m \u001b[1;33m=\u001b[0m \u001b[0mPath\u001b[0m\u001b[1;33m(\u001b[0m\u001b[0msys\u001b[0m\u001b[1;33m.\u001b[0m\u001b[0margv\u001b[0m\u001b[1;33m[\u001b[0m\u001b[1;36m1\u001b[0m\u001b[1;33m]\u001b[0m\u001b[1;33m)\u001b[0m\u001b[1;33m\u001b[0m\u001b[1;33m\u001b[0m\u001b[0m\n\u001b[1;32m----> 3\u001b[1;33m \u001b[1;32massert\u001b[0m \u001b[0mqasm_dir\u001b[0m\u001b[1;33m.\u001b[0m\u001b[0mis_dir\u001b[0m\u001b[1;33m(\u001b[0m\u001b[1;33m)\u001b[0m\u001b[1;33m\u001b[0m\u001b[1;33m\u001b[0m\u001b[0m\n\u001b[0m\u001b[0;32m      4\u001b[0m \u001b[1;31m# iterate the qasm files in the directory\u001b[0m\u001b[1;33m\u001b[0m\u001b[1;33m\u001b[0m\u001b[1;33m\u001b[0m\u001b[0m\n\u001b[0;32m      5\u001b[0m \u001b[1;32mfor\u001b[0m \u001b[0mqasm_file\u001b[0m \u001b[1;32min\u001b[0m \u001b[0mqasm_dir\u001b[0m\u001b[1;33m.\u001b[0m\u001b[0mglob\u001b[0m\u001b[1;33m(\u001b[0m\u001b[1;34m\"**/*.qasm\"\u001b[0m\u001b[1;33m)\u001b[0m\u001b[1;33m:\u001b[0m\u001b[1;33m\u001b[0m\u001b[1;33m\u001b[0m\u001b[0m\n",
      "\u001b[1;31mAssertionError\u001b[0m: "
     ]
    }
   ],
   "source": [
    "# get the directory of qasm files and make sure it's a directory\n",
    "qasm_dir = Path(sys.argv[1])\n",
    "assert qasm_dir.is_dir()\n",
    "# iterate the qasm files in the directory\n",
    "for qasm_file in qasm_dir.glob(\"**/*.qasm\"):\n",
    "    # read the qasm file\n",
    "    with open(qasm_file, \"r\") as f:\n",
    "        qasm_string = f.read()\n",
    "    # run your simulate function on the qasm string\n",
    "    state_vector = simulate(qasm_string)\n",
    "    # run cirq's simulator on the qasm string\n",
    "    cirq_state_vector = cirq_simulate(qasm_string)\n",
    "    # compare the results!\n",
    "    print(compare(state_vector, cirq_state_vector))"
   ]
  },
  {
   "cell_type": "code",
   "execution_count": null,
   "metadata": {},
   "outputs": [],
   "source": []
  }
 ],
 "metadata": {
  "kernelspec": {
   "display_name": "Python 3",
   "language": "python",
   "name": "python3"
  },
  "language_info": {
   "codemirror_mode": {
    "name": "ipython",
    "version": 3
   },
   "file_extension": ".py",
   "mimetype": "text/x-python",
   "name": "python",
   "nbconvert_exporter": "python",
   "pygments_lexer": "ipython3",
   "version": "3.8.3"
  }
 },
 "nbformat": 4,
 "nbformat_minor": 4
}
